{
  "nbformat": 4,
  "nbformat_minor": 0,
  "metadata": {
    "colab": {
      "provenance": [],
      "authorship_tag": "ABX9TyM0kN54fLWH9SmPb7jJGqWt",
      "include_colab_link": true
    },
    "kernelspec": {
      "name": "python3",
      "display_name": "Python 3"
    },
    "language_info": {
      "name": "python"
    }
  },
  "cells": [
    {
      "cell_type": "markdown",
      "metadata": {
        "id": "view-in-github",
        "colab_type": "text"
      },
      "source": [
        "<a href=\"https://colab.research.google.com/github/prncrlnd/Test/blob/main/For_Ysa.ipynb\" target=\"_parent\"><img src=\"https://colab.research.google.com/assets/colab-badge.svg\" alt=\"Open In Colab\"/></a>"
      ]
    },
    {
      "cell_type": "code",
      "execution_count": 13,
      "metadata": {
        "id": "d2HFyNvz3vbL"
      },
      "outputs": [],
      "source": [
        "import tensorflow as tf\n",
        "\n",
        "def relu(x):\n",
        "  return tf.nn.relu(x)\n",
        "\n",
        "def swish(x):\n",
        "  return x * tf.sigmoid(x)\n",
        "\n",
        "def mish(x):\n",
        "  return x * tf.tanh(tf.log(1 + tf.exp(x)))"
      ]
    },
    {
      "cell_type": "code",
      "source": [
        "import tensorflow as tf\n",
        "from tensorflow.keras.models import Sequential\n",
        "from tensorflow.keras.layers import Flatten, Dense\n",
        "import matplotlib.pyplot as plt\n",
        "\n",
        "# Load the dataset (replace with your desired dataset)\n",
        "(x_train, y_train), (x_test, y_test) = tf.keras.datasets.fashion_mnist.load_data()\n",
        "\n",
        "# Preprocess data (e.g., normalize)\n",
        "x_train = x_train / 255.0\n",
        "x_test = x_test / 255.0\n",
        "\n",
        "# Create models with different activation functions\n",
        "models = {\n",
        "    'relu': Sequential([\n",
        "        Flatten(input_shape=(28, 28, 1)),  # Adjust input shape based on dataset\n",
        "        Dense(128, activation='relu'),\n",
        "        Dense(10, activation='softmax')\n",
        "    ]),\n",
        "    'swish': Sequential([\n",
        "        Flatten(input_shape=(28, 28, 1)),\n",
        "        Dense(128, activation='swish'),\n",
        "        Dense(10, activation='softmax')\n",
        "    ]),\n",
        "    'mish': Sequential([\n",
        "        Flatten(input_shape=(28, 28, 1)),\n",
        "        Dense(128, activation='mish'),\n",
        "        Dense(10, activation='softmax')\n",
        "    ])\n",
        "}\n",
        "\n",
        "# Train and evaluate each model\n",
        "results = {}\n",
        "for name, model in models.items():\n",
        "    # Use SGD optimizer with a learning rate of 0.01\n",
        "    model.compile(optimizer=tf.keras.optimizers.SGD(learning_rate=0.01),\n",
        "                  loss='sparse_categorical_crossentropy',\n",
        "                  metrics=['accuracy'])\n",
        "    history = model.fit(x_train, y_train, epochs=10, validation_data=(x_test, y_test))\n",
        "    results[name] = history\n",
        "\n",
        "# Plot training curves\n",
        "plt.figure(figsize=(16, 6))\n",
        "\n",
        "# Accuracy vs Epochs\n",
        "plt.subplot(1, 2, 1)\n",
        "for name, history in results.items():\n",
        "    plt.plot(history.history['accuracy'], label=name)\n",
        "plt.title('Accuracy vs Epochs')\n",
        "plt.xlabel('Epochs')\n",
        "plt.ylabel('Accuracy')\n",
        "plt.legend()\n",
        "\n",
        "# Loss vs Epochs\n",
        "plt.subplot(1, 2, 2)\n",
        "for name, history in results.items():\n",
        "    plt.plot(history.history['loss'], label=name)\n",
        "plt.title('Loss vs Epochs')\n",
        "plt.xlabel('Epochs')\n",
        "plt.ylabel('Loss')\n",
        "plt.legend()\n",
        "\n",
        "plt.tight_layout()\n",
        "plt.show()"
      ],
      "metadata": {
        "id": "IZwkjKej0SRx"
      },
      "execution_count": null,
      "outputs": []
    }
  ]
}